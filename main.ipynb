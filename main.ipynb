{
 "cells": [
  {
   "attachments": {},
   "cell_type": "markdown",
   "metadata": {},
   "source": [
    "# Libraries import"
   ]
  },
  {
   "cell_type": "code",
   "execution_count": 1,
   "metadata": {},
   "outputs": [],
   "source": [
    "from pandas.core.frame import DataFrame\n",
    "import psycopg2\n",
    "from psycopg2 import sql\n",
    "import numpy as np\n",
    "import pandas as pd\n",
    "import re\n",
    "from datetime import date, datetime\n",
    "import os\n",
    "from tqdm import tqdm\n",
    "from dotenv import load_dotenv\n",
    "import json"
   ]
  },
  {
   "attachments": {},
   "cell_type": "markdown",
   "metadata": {},
   "source": [
    "# Initialization and database connection"
   ]
  },
  {
   "cell_type": "code",
   "execution_count": 2,
   "metadata": {},
   "outputs": [],
   "source": [
    "load_dotenv()\n",
    "\n",
    "db_connection_dict = {\n",
    "    'dbname': str(os.getenv('DB_NAME')),\n",
    "    'user': str(os.getenv('DB_USER')),\n",
    "    'password': str(os.getenv('DB_PASSWORD')),\n",
    "    'host': str(os.getenv('DB_HOST')),\n",
    "    'port': str(os.getenv('DB_PORT')),\n",
    "    'options': \"\"\"-c search_path=\"colombia\" \"\"\"\n",
    "}"
   ]
  },
  {
   "cell_type": "code",
   "execution_count": 3,
   "metadata": {},
   "outputs": [],
   "source": [
    "class errorhandling(object):\n",
    "    \"\"\"\n",
    "    classe pour la gestion d'erreur\n",
    "    \"\"\"\n",
    "\n",
    "    def __init__(self):\n",
    "        self.time = datetime.now().strftime(\"%Y-%m-%d-%H-%M-%S\")\n",
    "        self.file_error_name = \"\"\"logs/logErrors-{}.txt\"\"\".format(\n",
    "            str(self.time))\n",
    "        self.log_error = open(self.file_error_name, \"w\")\n",
    "        self.log_error.write(\"file;table;error;id\\n\")\n",
    "\n",
    "    def error_save(self):\n",
    "        self.log_error.close()"
   ]
  },
  {
   "cell_type": "code",
   "execution_count": 4,
   "metadata": {},
   "outputs": [],
   "source": [
    "class database:\n",
    "\n",
    "    def __init__(self,param_dict):\n",
    "        self.conn = self.connect_bd(param_dict)\n",
    "\n",
    "    def connect_bd(self, param_dict):\n",
    "        conn = None\n",
    "        try:\n",
    "            conn = psycopg2.connect(**param_dict)\n",
    "            conn.set_client_encoding('UTF8')\n",
    "            print(\"Connection successful\")\n",
    "        except (Exception, psycopg2.DatabaseError) as error:\n",
    "            print(error)\n",
    "            conn = None\n",
    "\n",
    "        return conn"
   ]
  },
  {
   "cell_type": "code",
   "execution_count": 5,
   "metadata": {},
   "outputs": [
    {
     "name": "stdout",
     "output_type": "stream",
     "text": [
      "Connection successful\n"
     ]
    }
   ],
   "source": [
    "error_handler = errorhandling()\n",
    "conn = database(db_connection_dict).conn\n",
    "cursor = conn.cursor()"
   ]
  },
  {
   "attachments": {},
   "cell_type": "markdown",
   "metadata": {},
   "source": [
    "# Queries"
   ]
  },
  {
   "cell_type": "code",
   "execution_count": 49,
   "metadata": {},
   "outputs": [],
   "source": [
    "with open('query_parameters.json') as json_file:\n",
    "    query_parameters = json.load(json_file)"
   ]
  },
  {
   "cell_type": "code",
   "execution_count": 25,
   "metadata": {},
   "outputs": [],
   "source": [
    "def create_join_clause(parameters_dict,field_to_update):\n",
    "    \n",
    "    joins = parameters_dict.get(\"Joins\").get(field_to_update)\n",
    "    join_clause = sql.SQL(\"\")\n",
    "\n",
    "    if joins: # check if dictionary is not empty\n",
    "        for key, value in joins.items():\n",
    "            if \"tables_to_join\" in value: # check if there are tables to join\n",
    "                tables_list = value.get(\"tables_to_join\")\n",
    "                if tables_list: # check if list is not empty\n",
    "                    for table in tables_list:\n",
    "                        join_type = table.get(\"join_type\").strip()\n",
    "                        table_name = table.get(\"name\").strip()\n",
    "                        primary_key = value.get(\"primary_key\").strip()\n",
    "                        foreign_key = joins.get(table_name).get(\"foreign_keys\").get(key).strip()\n",
    "                        join_query =  sql.SQL(join_type + \" join {} on {} = {}\\n\").format(sql.Identifier(table_name),\n",
    "                                                                      sql.Identifier(key, primary_key),\n",
    "                                                                      sql.Identifier(table_name, foreign_key) )\n",
    "                        join_clause = sql.Composed([join_clause, join_query])\n",
    "\n",
    "    return join_clause"
   ]
  },
  {
   "cell_type": "code",
   "execution_count": 62,
   "metadata": {},
   "outputs": [
    {
     "name": "stdout",
     "output_type": "stream",
     "text": [
      "inner join \"parcelwaves\" on \"parcels\".\"id\" = \"parcelwaves\".\"parcelid\"\n",
      "\n"
     ]
    }
   ],
   "source": [
    "q = create_join_clause(query_parameters,\"Planted_area_ha\")\n",
    "print(q.as_string(conn))"
   ]
  },
  {
   "cell_type": "code",
   "execution_count": 10,
   "metadata": {},
   "outputs": [],
   "source": [
    "excel_file = os.path.join('missing_data', 'missing_data.xlsx')\n",
    "missing_data_df = pd.read_excel(excel_file)"
   ]
  },
  {
   "cell_type": "code",
   "execution_count": 97,
   "metadata": {},
   "outputs": [],
   "source": [
    "def execute_query(cursor,query):\n",
    "\n",
    "    cursor.mogrify(query)\n",
    "                \n",
    "    try:\n",
    "        cursor.execute(query)\n",
    "    except Exception as e:\n",
    "        print(e)\n",
    "        conn.rollback()\n",
    "    else:\n",
    "        conn.commit()\n",
    "\n",
    "    return cursor.fetchall()"
   ]
  },
  {
   "cell_type": "code",
   "execution_count": 96,
   "metadata": {},
   "outputs": [],
   "source": [
    "def update_request_by_id(cursor, table, field, value, select_query):\n",
    "    update_query = sql.SQL(\"UPDATE {table}\\nSET {table}.{field} = {value}\\nWHERE id in\").format(\n",
    "                                                table=sql.Identifier(table),\n",
    "                                                field=sql.Identifier(field),\n",
    "                                                value=sql.Literal(value)\n",
    "                                                )\n",
    "    \n",
    "    query = sql.Composed([update_query, sql.SQL(\"(\"), select_query, sql.SQL(\")\")])\n",
    "\n",
    "    cursor.mogrify(query)\n",
    "\n",
    "    return execute_query(cursor,query)\n",
    "    "
   ]
  },
  {
   "cell_type": "code",
   "execution_count": 106,
   "metadata": {},
   "outputs": [],
   "source": [
    "def create_select_request(cursor, parameters_dict, dataframe):\n",
    "    columns_to_update = parameters_dict.get(\"Columns_to_update\")\n",
    "\n",
    "    for row in dataframe.itertuples():\n",
    "        for key1, value1 in columns_to_update.items():\n",
    "            \n",
    "            identifying_columns = parameters_dict.get(\"Identifying_columns\").get(key1)\n",
    "            \n",
    "            fields_to_select = (value1.get(\"table_name\"),\"id\")\n",
    "            join_clause = create_join_clause(parameters_dict,key1)\n",
    "\n",
    "            for key2, value2 in identifying_columns.items():\n",
    "\n",
    "                field_name = value2.get(\"field_name\")\n",
    "                value_to_check = getattr(row, key2).strip().lower()\n",
    "                value_to_update = getattr(row, key1)\n",
    "                table = value1.get(\"table_name\")\n",
    "                where_condition = sql.SQL(\"\")\n",
    "\n",
    "                if not where_condition.as_string(cursor):\n",
    "                    where_check = sql.SQL(\"where {field_name}={value}\").format(field_name=sql.Identifier(field_name),\n",
    "                                                                         value = sql.Literal(value_to_check))\n",
    "                    where_condition = sql.Composed([where_condition, where_check])\n",
    "                else:\n",
    "                    where_check = sql.SQL(\" AND {field_name}={value}\").format(field_name=sql.Identifier(field_name),\n",
    "                                                                              value = sql.Literal(value_to_check))\n",
    "                    where_condition = sql.Composed([where_condition, where_check])\n",
    "\n",
    "                select_fields = sql.SQL(\"SELECT DISTINCT {fields}\\nFROM {table}\\n\").format(\n",
    "                                                fields=sql.Identifier(*fields_to_select),\n",
    "                                                table=sql.Identifier(table))\n",
    "                \n",
    "                query = sql.Composed([select_fields, join_clause, where_condition])\n",
    "\n",
    "                result = execute_query(cursor,query)\n",
    "\n",
    "                if len(result) == 0:\n",
    "                    print(\"No result has been return by query:\")\n",
    "                    print(result)\n",
    "                elif len(result) == 1:\n",
    "                    print(\"One result has been returned by query, making the update:\")\n",
    "                    update_request_by_id(cursor, table, value1.get(\"field_name\"), value_to_update, query)\n",
    "                else:\n",
    "                    print(\"Multiple results have been return by the query\")\n",
    "    "
   ]
  },
  {
   "cell_type": "code",
   "execution_count": 103,
   "metadata": {},
   "outputs": [
    {
     "name": "stdout",
     "output_type": "stream",
     "text": [
      "One result has been returned by query, making the update:\n",
      "column \"parcels\" of relation \"parcels\" does not exist\n",
      "LINE 2: SET \"parcels\".\"plantedarea\" = 'bok noi-village no.6-2015-p1-...\n",
      "            ^\n",
      "\n"
     ]
    },
    {
     "ename": "ProgrammingError",
     "evalue": "no results to fetch",
     "output_type": "error",
     "traceback": [
      "\u001b[1;31m---------------------------------------------------------------------------\u001b[0m",
      "\u001b[1;31mProgrammingError\u001b[0m                          Traceback (most recent call last)",
      "Cell \u001b[1;32mIn[103], line 1\u001b[0m\n\u001b[1;32m----> 1\u001b[0m create_select_request(cursor,query_parameters, missing_data_df)\n",
      "Cell \u001b[1;32mIn[101], line 41\u001b[0m, in \u001b[0;36mcreate_select_request\u001b[1;34m(cursor, parameters_dict, dataframe)\u001b[0m\n\u001b[0;32m     39\u001b[0m \u001b[39melif\u001b[39;00m \u001b[39mlen\u001b[39m(result) \u001b[39m==\u001b[39m \u001b[39m1\u001b[39m:\n\u001b[0;32m     40\u001b[0m     \u001b[39mprint\u001b[39m(\u001b[39m\"\u001b[39m\u001b[39mOne result has been returned by query, making the update:\u001b[39m\u001b[39m\"\u001b[39m)\n\u001b[1;32m---> 41\u001b[0m     update_request_by_id(cursor, table, value1\u001b[39m.\u001b[39;49mget(\u001b[39m\"\u001b[39;49m\u001b[39mfield_name\u001b[39;49m\u001b[39m\"\u001b[39;49m), value, query)\n\u001b[0;32m     42\u001b[0m \u001b[39melse\u001b[39;00m:\n\u001b[0;32m     43\u001b[0m     \u001b[39mprint\u001b[39m(\u001b[39m\"\u001b[39m\u001b[39mMultiple results have been return by the query\u001b[39m\u001b[39m\"\u001b[39m)\n",
      "Cell \u001b[1;32mIn[96], line 12\u001b[0m, in \u001b[0;36mupdate_request_by_id\u001b[1;34m(cursor, table, field, value, select_query)\u001b[0m\n\u001b[0;32m      8\u001b[0m query \u001b[39m=\u001b[39m sql\u001b[39m.\u001b[39mComposed([update_query, sql\u001b[39m.\u001b[39mSQL(\u001b[39m\"\u001b[39m\u001b[39m(\u001b[39m\u001b[39m\"\u001b[39m), select_query, sql\u001b[39m.\u001b[39mSQL(\u001b[39m\"\u001b[39m\u001b[39m)\u001b[39m\u001b[39m\"\u001b[39m)])\n\u001b[0;32m     10\u001b[0m cursor\u001b[39m.\u001b[39mmogrify(query)\n\u001b[1;32m---> 12\u001b[0m \u001b[39mreturn\u001b[39;00m execute_query(cursor,query)\n",
      "Cell \u001b[1;32mIn[97], line 13\u001b[0m, in \u001b[0;36mexecute_query\u001b[1;34m(cursor, query)\u001b[0m\n\u001b[0;32m     10\u001b[0m \u001b[39melse\u001b[39;00m:\n\u001b[0;32m     11\u001b[0m     conn\u001b[39m.\u001b[39mcommit()\n\u001b[1;32m---> 13\u001b[0m \u001b[39mreturn\u001b[39;00m cursor\u001b[39m.\u001b[39;49mfetchall()\n",
      "\u001b[1;31mProgrammingError\u001b[0m: no results to fetch"
     ]
    }
   ],
   "source": [
    "create_select_request(cursor,query_parameters, missing_data_df)"
   ]
  }
 ],
 "metadata": {
  "kernelspec": {
   "display_name": "Python 3",
   "language": "python",
   "name": "python3"
  },
  "language_info": {
   "codemirror_mode": {
    "name": "ipython",
    "version": 3
   },
   "file_extension": ".py",
   "mimetype": "text/x-python",
   "name": "python",
   "nbconvert_exporter": "python",
   "pygments_lexer": "ipython3",
   "version": "3.11.0"
  },
  "orig_nbformat": 4,
  "vscode": {
   "interpreter": {
    "hash": "c261aea317cc0286b3b3261fbba9abdec21eaa57589985bb7a274bf54d6cc0a7"
   }
  }
 },
 "nbformat": 4,
 "nbformat_minor": 2
}
