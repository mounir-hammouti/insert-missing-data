{
 "cells": [
  {
   "attachments": {},
   "cell_type": "markdown",
   "metadata": {},
   "source": [
    "# Libraries import"
   ]
  },
  {
   "cell_type": "code",
   "execution_count": 1,
   "metadata": {},
   "outputs": [],
   "source": [
    "from pandas.core.frame import DataFrame\n",
    "import psycopg2\n",
    "from psycopg2 import sql\n",
    "import numpy as np\n",
    "import pandas as pd\n",
    "import re\n",
    "from datetime import date, datetime\n",
    "import os\n",
    "from tqdm import tqdm\n",
    "from dotenv import load_dotenv\n",
    "import json"
   ]
  },
  {
   "attachments": {},
   "cell_type": "markdown",
   "metadata": {},
   "source": [
    "# Initialization and database connection"
   ]
  },
  {
   "cell_type": "code",
   "execution_count": 2,
   "metadata": {},
   "outputs": [],
   "source": [
    "load_dotenv()\n",
    "\n",
    "db_connection_dict = {\n",
    "    'dbname': str(os.getenv('DB_NAME')),\n",
    "    'user': str(os.getenv('DB_USER')),\n",
    "    'password': str(os.getenv('DB_PASSWORD')),\n",
    "    'host': str(os.getenv('DB_HOST')),\n",
    "    'port': str(os.getenv('DB_PORT')),\n",
    "    'options': \"\"\"-c search_path=\"colombia\" \"\"\"\n",
    "}"
   ]
  },
  {
   "cell_type": "code",
   "execution_count": 3,
   "metadata": {},
   "outputs": [],
   "source": [
    "class errorhandling(object):\n",
    "    \"\"\"\n",
    "    classe pour la gestion d'erreur\n",
    "    \"\"\"\n",
    "\n",
    "    def __init__(self):\n",
    "        self.time = datetime.now().strftime(\"%Y-%m-%d-%H-%M-%S\")\n",
    "        self.file_error_name = \"\"\"logs/logErrors-{}.txt\"\"\".format(\n",
    "            str(self.time))\n",
    "        self.log_error = open(self.file_error_name, \"w\")\n",
    "        self.log_error.write(\"file;table;error;id\\n\")\n",
    "\n",
    "    def error_save(self):\n",
    "        self.log_error.close()"
   ]
  },
  {
   "cell_type": "code",
   "execution_count": 4,
   "metadata": {},
   "outputs": [],
   "source": [
    "class database:\n",
    "\n",
    "    def __init__(self,param_dict):\n",
    "        self.conn = self.connect_bd(param_dict)\n",
    "\n",
    "    def connect_bd(self, param_dict):\n",
    "        conn = None\n",
    "        try:\n",
    "            conn = psycopg2.connect(**param_dict)\n",
    "            conn.set_client_encoding('UTF8')\n",
    "            print(\"Connection successful\")\n",
    "        except (Exception, psycopg2.DatabaseError) as error:\n",
    "            print(error)\n",
    "            conn = None\n",
    "\n",
    "        return conn"
   ]
  },
  {
   "cell_type": "code",
   "execution_count": 5,
   "metadata": {},
   "outputs": [
    {
     "name": "stdout",
     "output_type": "stream",
     "text": [
      "Connection successful\n"
     ]
    }
   ],
   "source": [
    "error_handler = errorhandling()\n",
    "conn = database(db_connection_dict).conn\n",
    "cursor = conn.cursor()"
   ]
  },
  {
   "attachments": {},
   "cell_type": "markdown",
   "metadata": {},
   "source": [
    "# Queries"
   ]
  },
  {
   "cell_type": "code",
   "execution_count": 6,
   "metadata": {},
   "outputs": [
    {
     "name": "stdout",
     "output_type": "stream",
     "text": [
      "[('thammaraksa', 'w-15', None)]\n"
     ]
    }
   ],
   "source": [
    "query = \"\"\"\n",
    "select p4.projectname, w.wavename, avg(p5.plantedarea) \n",
    "   from parcelwavespecies p\n",
    "   inner join parcelwaves p2 on p2.id = p.parcelwaveid\n",
    "   inner join parcels p5 on p5.id = p2.parcelid\n",
    "   inner join projectwaves p3 on p2.projectwaveid = p3.id\n",
    "   inner join subprojects s on p3.subprojectid = s.id\n",
    "   inner join waves w on p3.waveid = w.id\n",
    "   inner join projects p4 on s.projectid = p4.id\n",
    "   where p4.projectname = 'thammaraksa'\n",
    "   group by p4.projectname, w.wavename;\n",
    "\"\"\"\n",
    "\n",
    "try:\n",
    "    cursor.execute(query)\n",
    "except Exception as e:\n",
    "    conn.rollback()\n",
    "else:\n",
    "    conn.commit()\n",
    "\n",
    "average_planted_area = cursor.fetchall()\n",
    "print(average_planted_area)"
   ]
  },
  {
   "cell_type": "code",
   "execution_count": null,
   "metadata": {},
   "outputs": [],
   "source": [
    "query = \"\"\"\n",
    "select gpsfilename, plantedarea\n",
    "from parcels\n",
    "inner join parcelwaves on parcels.id = parcelwaves.parcelid\n",
    "where gpsfilename = 'bok noi-village no.6-2015-p1-m3';\n",
    "\"\"\""
   ]
  },
  {
   "cell_type": "code",
   "execution_count": 7,
   "metadata": {},
   "outputs": [],
   "source": [
    "with open('query_parameters.json') as json_file:\n",
    "    query_parameters = json.load(json_file)"
   ]
  },
  {
   "cell_type": "code",
   "execution_count": 16,
   "metadata": {},
   "outputs": [],
   "source": [
    "def create_join_clause(parameters_dict):\n",
    "    \n",
    "    joins = parameters_dict.get(\"Joins\")\n",
    "    join_clause = \"\"\n",
    "\n",
    "    if joins: # check if dictionary is not empty\n",
    "        for key, value in joins.items():\n",
    "            if \"tables_to_join\" in value: # check if there are tables to join\n",
    "                tables_list = value.get(\"tables_to_join\")\n",
    "                if tables_list: # check if list is not empty\n",
    "                    for table in tables_list:\n",
    "                        join_type = table.get(\"join_type\").strip()\n",
    "                        table_name = table.get(\"name\").strip() \n",
    "                        primary_key = value.get(\"primary_key\")\n",
    "                        foreign_key = joins.get(table_name).get(\"foreign_keys\").get(key)\n",
    "                        join_query =  \"{} join {} on {}.{} = {}.{} \".format(join_type,table_name,\n",
    "                                                                      key, primary_key,\n",
    "                                                                      table_name, foreign_key)\n",
    "                        join_clause += join_query\n",
    "\n",
    "    return join_clause.strip()"
   ]
  },
  {
   "cell_type": "code",
   "execution_count": 9,
   "metadata": {},
   "outputs": [
    {
     "data": {
      "text/plain": [
       "'inner join parcelwaves on parcels.id = parcelwaves.parcelid'"
      ]
     },
     "execution_count": 9,
     "metadata": {},
     "output_type": "execute_result"
    }
   ],
   "source": [
    "create_join_clause(query_parameters)"
   ]
  },
  {
   "cell_type": "code",
   "execution_count": 10,
   "metadata": {},
   "outputs": [],
   "source": [
    "excel_file = os.path.join('missing_data', 'missing_data.xlsx')\n",
    "missing_data_df = pd.read_excel(excel_file)"
   ]
  },
  {
   "cell_type": "code",
   "execution_count": 17,
   "metadata": {},
   "outputs": [],
   "source": [
    "def create_select_request(cursor, parameters_dict, dataframe):\n",
    "    columns_to_update = parameters_dict.get(\"Columns_to_update\")\n",
    "    identifying_columns = parameters_dict.get(\"Identifying_columns\")\n",
    "    \n",
    "    fields_to_select = {c[\"field_name\"] for c in columns_to_update.values()}\n",
    "    fields_to_select.update({c[\"field_name\"] for c in identifying_columns.values()})\n",
    "    fields_to_select_str = \",\".join(fields_to_select)\n",
    "\n",
    "    join_clause = create_join_clause(parameters_dict)\n",
    "\n",
    "    for row in missing_data_df.itertuples():\n",
    "        for key1, value1 in columns_to_update.items():\n",
    "            table = value1.get(\"table_name\")\n",
    "            where_condition = \"\"\n",
    "            for key2, value2 in identifying_columns.items():\n",
    "\n",
    "                field_name = value2.get(\"field_name\")\n",
    "                value = getattr(row, key2).strip().lower()\n",
    "                if not where_condition:\n",
    "                    where_condition += \"{field_name}={value}\".format(field_name=field_name, value = value)\n",
    "                else:\n",
    "                    where_condition += \" AND {field_name}={value}\".format(field_name=field_name, value = value)\n",
    "\n",
    "                query = sql.SQL(\"\"\"SELECT {fields} FROM {table} {join} where %s;\"\"\").format(\n",
    "                                        fields=sql.SQL(',').join([sql.Identifier(f) for f in fields_to_select]),\n",
    "                                        table=sql.Identifier(table),\n",
    "                                        join=sql.Identifier(join_clause)\n",
    "                                        )\n",
    "                \n",
    "                \n",
    "                cursor.mogrify(query,(where_condition,))\n",
    "                \n",
    "                query_str = \"\"\"SELECT {fields} FROM {table} {join} where {condition};\"\"\".format(\n",
    "                                                                                        fields = fields_to_select_str, \n",
    "                                                                                        table = table,\n",
    "                                                                                        join=join_clause,\n",
    "                                                                                        condition=where_condition\n",
    "                                                                                        )\n",
    "\n",
    "\n",
    "                cursor.mogrify(query_str)\n",
    "                \n",
    "                try:\n",
    "                    cursor.execute(query_str)\n",
    "                except Exception as e:\n",
    "                    print(e)\n",
    "                    conn.rollback()\n",
    "                else:\n",
    "                    conn.commit()\n",
    "\n",
    "                print(cursor.fetchall())\n",
    "    "
   ]
  },
  {
   "cell_type": "code",
   "execution_count": 18,
   "metadata": {},
   "outputs": [],
   "source": [
    "create_select_request(cursor,query_parameters, missing_data_df)"
   ]
  }
 ],
 "metadata": {
  "kernelspec": {
   "display_name": "Python 3",
   "language": "python",
   "name": "python3"
  },
  "language_info": {
   "codemirror_mode": {
    "name": "ipython",
    "version": 3
   },
   "file_extension": ".py",
   "mimetype": "text/x-python",
   "name": "python",
   "nbconvert_exporter": "python",
   "pygments_lexer": "ipython3",
   "version": "3.11.0"
  },
  "orig_nbformat": 4,
  "vscode": {
   "interpreter": {
    "hash": "c261aea317cc0286b3b3261fbba9abdec21eaa57589985bb7a274bf54d6cc0a7"
   }
  }
 },
 "nbformat": 4,
 "nbformat_minor": 2
}
