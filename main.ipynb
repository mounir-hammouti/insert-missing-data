{
 "cells": [
  {
   "attachments": {},
   "cell_type": "markdown",
   "metadata": {},
   "source": [
    "# Libraries import"
   ]
  },
  {
   "cell_type": "code",
   "execution_count": 1,
   "metadata": {},
   "outputs": [],
   "source": [
    "import psycopg2\n",
    "from psycopg2 import sql\n",
    "import pandas as pd\n",
    "import numpy as np\n",
    "from datetime import datetime\n",
    "import os\n",
    "from dotenv import load_dotenv\n",
    "import json\n",
    "from tqdm import tqdm\n",
    "from tabulate import tabulate\n",
    "from collections import defaultdict\n",
    "from mylogger import getmylogger"
   ]
  },
  {
   "attachments": {},
   "cell_type": "markdown",
   "metadata": {},
   "source": [
    "# Initialization and database connection"
   ]
  },
  {
   "cell_type": "code",
   "execution_count": 2,
   "metadata": {},
   "outputs": [],
   "source": [
    "load_dotenv()\n",
    "\n",
    "db_connection_dict = {\n",
    "    'dbname': str(os.getenv('DB_NAME')),\n",
    "    'user': str(os.getenv('DB_USER')),\n",
    "    'password': str(os.getenv('DB_PASSWORD')),\n",
    "    'host': str(os.getenv('DB_HOST')),\n",
    "    'port': str(os.getenv('DB_PORT')),\n",
    "    'options': \"\"\"-c search_path=\"colombia\" \"\"\"\n",
    "}"
   ]
  },
  {
   "cell_type": "code",
   "execution_count": 3,
   "metadata": {},
   "outputs": [],
   "source": [
    "class database:\n",
    "\n",
    "    def __init__(self,param_dict):\n",
    "        self.conn = self.connect_bd(param_dict)\n",
    "\n",
    "    def connect_bd(self, param_dict):\n",
    "        conn = None\n",
    "        try:\n",
    "            conn = psycopg2.connect(**param_dict)\n",
    "            conn.set_client_encoding('UTF8')\n",
    "            print(\"Connection successful\")\n",
    "        except (Exception, psycopg2.DatabaseError) as error:\n",
    "            print(error)\n",
    "            conn = None\n",
    "\n",
    "        return conn"
   ]
  },
  {
   "cell_type": "code",
   "execution_count": 4,
   "metadata": {},
   "outputs": [
    {
     "name": "stdout",
     "output_type": "stream",
     "text": [
      "Connection successful\n"
     ]
    }
   ],
   "source": [
    "logger = getmylogger(__name__)\n",
    "conn = database(db_connection_dict).conn\n",
    "cursor = conn.cursor()"
   ]
  },
  {
   "attachments": {},
   "cell_type": "markdown",
   "metadata": {},
   "source": [
    "# Queries"
   ]
  },
  {
   "cell_type": "code",
   "execution_count": 5,
   "metadata": {},
   "outputs": [],
   "source": [
    "with open('query_parameters.json') as json_file:\n",
    "    query_parameters = json.load(json_file)"
   ]
  },
  {
   "cell_type": "code",
   "execution_count": 6,
   "metadata": {},
   "outputs": [],
   "source": [
    "def create_join_clause(parameters_dict,column_name):\n",
    "    \n",
    "    joins = parameters_dict.get(\"Joins\").get(column_name)\n",
    "    join_clause = sql.SQL(\"\")\n",
    "\n",
    "    if joins: # check if dictionary is not empty\n",
    "        for key, value in joins.items():\n",
    "            if \"tables_to_join\" in value: # check if there are tables to join\n",
    "                tables_list = value.get(\"tables_to_join\")\n",
    "                if tables_list: # check if list is not empty\n",
    "                    for table in tables_list:\n",
    "                        join_type = table.get(\"join_type\").strip()\n",
    "                        table_name = table.get(\"name\").strip()\n",
    "                        primary_key = value.get(\"primary_key\").strip()\n",
    "                        foreign_key = joins.get(table_name).get(\"foreign_keys\").get(key).strip()\n",
    "                        join_query =  sql.SQL(join_type + \" join {} on {} = {}\\n\").format(sql.Identifier(table_name),\n",
    "                                                                      sql.Identifier(key, primary_key),\n",
    "                                                                      sql.Identifier(table_name, foreign_key) )\n",
    "                        join_clause = sql.Composed([join_clause, join_query])\n",
    "\n",
    "    return join_clause"
   ]
  },
  {
   "cell_type": "code",
   "execution_count": 7,
   "metadata": {},
   "outputs": [
    {
     "name": "stdout",
     "output_type": "stream",
     "text": [
      "inner join \"parcelwaves\" on \"parcels\".\"id\" = \"parcelwaves\".\"parcelid\"\n",
      "\n"
     ]
    }
   ],
   "source": [
    "q = create_join_clause(query_parameters,\"Planted_area_ha\")\n",
    "print(q.as_string(conn))"
   ]
  },
  {
   "cell_type": "code",
   "execution_count": 8,
   "metadata": {},
   "outputs": [],
   "source": [
    "excel_file = os.path.join('missing_data', 'missing_data.xlsx')\n",
    "missing_data_df = pd.read_excel(excel_file)"
   ]
  },
  {
   "cell_type": "code",
   "execution_count": 9,
   "metadata": {},
   "outputs": [],
   "source": [
    "def execute_query(cursor,query):\n",
    "    try:\n",
    "        cursor.execute(query)\n",
    "    except Exception as e:\n",
    "        print(e)\n",
    "        conn.rollback()\n",
    "    else:\n",
    "        conn.commit()"
   ]
  },
  {
   "cell_type": "code",
   "execution_count": 10,
   "metadata": {},
   "outputs": [],
   "source": [
    "def create_where_condition(cursor,where_condition,table_and_field_to_check,value_to_check):\n",
    "\n",
    "    if not where_condition.as_string(cursor): # if the where condition is empty (first iteration of for loop)\n",
    "        where_check = sql.SQL(\"WHERE {field_name}={value}\").format(field_name=sql.Identifier(*table_and_field_to_check),\n",
    "                                                                value = sql.Literal(value_to_check))\n",
    "        where_condition = sql.Composed([where_condition, where_check])\n",
    "    else:\n",
    "        where_check = sql.SQL(\" AND {field_name}={value}\").format(field_name=sql.Identifier(*table_and_field_to_check),\n",
    "                                                                    value = sql.Literal(value_to_check))\n",
    "        where_condition = sql.Composed([where_condition, where_check])\n",
    "\n",
    "    return where_condition"
   ]
  },
  {
   "cell_type": "code",
   "execution_count": 11,
   "metadata": {},
   "outputs": [],
   "source": [
    "def update_request_by_id(cursor, table, field, value, select_query):\n",
    "    update_query = sql.SQL(\"UPDATE {table} SET {field} = {value} WHERE id in\").format(\n",
    "                                                table=sql.Identifier(table),\n",
    "                                                field=sql.Identifier(field),\n",
    "                                                value=sql.Literal(value)\n",
    "                                                )\n",
    "    \n",
    "    query = sql.Composed([update_query, sql.SQL(\"(\"), select_query, sql.SQL(\")\")])\n",
    "    \n",
    "    logger.info(query.as_string(cursor).replace('\\n', ' '))\n",
    "\n",
    "    return execute_query(cursor,query)\n",
    "    "
   ]
  },
  {
   "cell_type": "code",
   "execution_count": 12,
   "metadata": {},
   "outputs": [],
   "source": [
    "def pretty_table_from_query_result(cursor, result):\n",
    "    columns = [desc[0] for desc in cursor.description]\n",
    "    dict_list = []\n",
    "    for row in result:\n",
    "        dict_list.append(dict(zip(columns, row)))\n",
    "    dd = defaultdict(list)\n",
    "    for d in dict_list:\n",
    "        for key, value in d.items():\n",
    "            dd[key].append(value)\n",
    "    return tabulate(dd, headers=\"keys\")"
   ]
  },
  {
   "cell_type": "code",
   "execution_count": 21,
   "metadata": {},
   "outputs": [],
   "source": [
    "def create_select_request(cursor, parameters_dict, dataframe):\n",
    "    columns_to_update = parameters_dict.get(\"Columns_to_update\")\n",
    "\n",
    "    for row in tqdm(dataframe.itertuples(), total=dataframe.shape[0]):\n",
    "        for key1, value1 in columns_to_update.items():\n",
    "            \n",
    "            table_to_update = value1.get(\"table_name\")\n",
    "            field_to_update = value1.get(\"field_name\")\n",
    "            value_to_update = getattr(row, key1)\n",
    "            table_and_field_to_select = (table_to_update,\"id\")\n",
    "\n",
    "            join_clause = create_join_clause(parameters_dict,key1)\n",
    "            identifying_columns = parameters_dict.get(\"Identifying_columns\").get(key1)\n",
    "\n",
    "            values_to_check = []\n",
    "            count = 0\n",
    "            \n",
    "            where_condition = sql.SQL(\"\")\n",
    "\n",
    "            for key2, value2 in identifying_columns.items():\n",
    "\n",
    "                table_to_check = value2.get(\"table_name\")\n",
    "                field_to_check = value2.get(\"field_name\")\n",
    "                table_and_field_to_check = (table_to_check,field_to_check)\n",
    "\n",
    "                value_to_check = getattr(row, key2)\n",
    "                if isinstance(value_to_check, str):\n",
    "                    value_to_check = value_to_check.strip().lower()\n",
    "                values_to_check.append(value_to_check)\n",
    "\n",
    "                where_condition = create_where_condition(cursor,where_condition,table_and_field_to_check,value_to_check)\n",
    "\n",
    "                select_fields = sql.SQL(\"SELECT DISTINCT {fields}\\nFROM {table}\\n\").format(\n",
    "                                                fields=sql.Identifier(*table_and_field_to_select),\n",
    "                                                table=sql.Identifier(table_to_update))\n",
    "                \n",
    "                query = sql.Composed([select_fields, join_clause, where_condition])\n",
    "\n",
    "                execute_query(cursor,query)\n",
    "                result = cursor.fetchall()\n",
    "                result_table = pretty_table_from_query_result(cursor, result)\n",
    "                \n",
    "                count += 1\n",
    "                if count == 1:\n",
    "                    logger.debug(\"-----------------------------------------------\")\n",
    "\n",
    "                if not result:\n",
    "                    logger.debug(\"No result has been returned by query:\")\n",
    "                    logger.debug(query.as_string(cursor).replace('\\n', ' '))\n",
    "                elif len(result) == 1:\n",
    "                    if value_to_update and pd.notna(value_to_update):\n",
    "                        logger.debug(\"Select Query:\")\n",
    "                        logger.debug(query.as_string(cursor).replace('\\n', ' '))\n",
    "                        logger.debug(\"Query results:\\n\" + result_table)\n",
    "                        logger.debug(\"One result has been returned. Making the update.\")\n",
    "                        logger.debug(\"Update Query:\")\n",
    "                        update_request_by_id(cursor, table_to_update, field_to_update , value_to_update, query)\n",
    "                        break\n",
    "                    else:\n",
    "                        logger.debug(\"No value to update for {} {}.\".format(', '.join(values_to_check) , \n",
    "                                                                     'value' if len(values_to_check) <= 1 else 'values'))\n",
    "                else:\n",
    "                    logger.debug(\"Select Query:\")\n",
    "                    logger.debug(query.as_string(cursor).replace('\\n', ' '))\n",
    "                    logger.debug(\"Multiple results have been returned by query:\")\n",
    "                    logger.debug(\"Query results:\\n\" + result_table)\n",
    "\n",
    "    "
   ]
  },
  {
   "cell_type": "code",
   "execution_count": 18,
   "metadata": {},
   "outputs": [
    {
     "name": "stderr",
     "output_type": "stream",
     "text": [
      "100%|██████████| 191/191 [00:06<00:00, 31.05it/s]\n"
     ]
    }
   ],
   "source": [
    "create_select_request(cursor,query_parameters, missing_data_df)"
   ]
  }
 ],
 "metadata": {
  "kernelspec": {
   "display_name": "Python 3",
   "language": "python",
   "name": "python3"
  },
  "language_info": {
   "codemirror_mode": {
    "name": "ipython",
    "version": 3
   },
   "file_extension": ".py",
   "mimetype": "text/x-python",
   "name": "python",
   "nbconvert_exporter": "python",
   "pygments_lexer": "ipython3",
   "version": "3.11.0"
  },
  "orig_nbformat": 4,
  "vscode": {
   "interpreter": {
    "hash": "c261aea317cc0286b3b3261fbba9abdec21eaa57589985bb7a274bf54d6cc0a7"
   }
  }
 },
 "nbformat": 4,
 "nbformat_minor": 2
}
